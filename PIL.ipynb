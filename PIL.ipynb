{
 "cells": [
  {
   "cell_type": "code",
   "execution_count": 3,
   "id": "8282876f",
   "metadata": {},
   "outputs": [
    {
     "name": "stdout",
     "output_type": "stream",
     "text": [
      "Successful\n"
     ]
    }
   ],
   "source": [
    "from PIL import Image\n",
    "  \n",
    "def convertImage():\n",
    "    img = Image.open(\"diagram.png\")\n",
    "    img = img.convert(\"RGBA\")\n",
    "  \n",
    "    datas = img.getdata()\n",
    "  \n",
    "    newData = []\n",
    "  \n",
    "    for item in datas:\n",
    "        if item[0] == 255 and item[1] == 255 and item[2] == 255:\n",
    "            newData.append((255, 255, 255, 0))\n",
    "        else:\n",
    "            newData.append(item)\n",
    "  \n",
    "    img.putdata(newData)\n",
    "    img.save(\"./New.png\", \"PNG\")\n",
    "    print(\"Successful\")\n",
    "  \n",
    "convertImage()"
   ]
  },
  {
   "cell_type": "code",
   "execution_count": null,
   "id": "aea30dd8",
   "metadata": {},
   "outputs": [],
   "source": []
  }
 ],
 "metadata": {
  "kernelspec": {
   "display_name": "Python 3 (ipykernel)",
   "language": "python",
   "name": "python3"
  },
  "language_info": {
   "codemirror_mode": {
    "name": "ipython",
    "version": 3
   },
   "file_extension": ".py",
   "mimetype": "text/x-python",
   "name": "python",
   "nbconvert_exporter": "python",
   "pygments_lexer": "ipython3",
   "version": "3.9.12"
  }
 },
 "nbformat": 4,
 "nbformat_minor": 5
}
